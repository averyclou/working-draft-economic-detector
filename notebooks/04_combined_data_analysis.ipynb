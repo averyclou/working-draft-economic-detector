{
 "cells": [
  {
   "cell_type": "markdown",
   "metadata": {},
   "source": [
    "# Economic Downturn Detector: Combined Data Analysis\n",
    "\n",
    "This notebook demonstrates how to use the combined dataset (FRED, NBER, UMich) to create visualizations and improve the MDA model."
   ]
  },
  {
   "cell_type": "code",
   "execution_count": null,
   "metadata": {},
   "source": [
    "# Import notebook utilities\n",
    "from notebook_utils import (\n",
    "    # Setup functions\n",
    "    setup_notebook, load_data, display_data_info, save_figure,\n",
    "    \n",
    "    # Import from econ_downturn package\n",
    "    engineer_features, normalize_data, apply_mda, create_discriminant_time_series,\n",
    "    plot_indicator_with_recessions, plot_correlation_matrix,\n",
    "    plot_feature_importance, plot_discriminant_time_series,\n",
    "    plot_sentiment_vs_indicator, plot_sentiment_correlation_matrix\n",
    ")\n",
    "\n",
    "# Import other libraries\n",
    "import pandas as pd\n",
    "import numpy as np\n",
    "import matplotlib.pyplot as plt\n",
    "import seaborn as sns\n",
    "import os\n",
    "from IPython.display import display\n",
    "\n",
    "# Set up the notebook environment\n",
    "setup_notebook()"
   ]
  },
  {
   "cell_type": "markdown",
   "metadata": {},
   "source": [
    "## 1. Load and Merge All Data\n",
    "\n",
    "First, let's load and merge data from all sources: FRED, NBER, and UMich."
   ]
  },
  {
   "cell_type": "code",
   "execution_count": null,
   "metadata": {},
   "source": [
    "# Load all data using the utility function\n",
    "merged_data = load_data(use_cached=False)  # Force reload from original sources\n",
    "\n",
    "# Display information about the dataset\n",
    "display_data_info(merged_data)"
   ]
  },
  {
   "cell_type": "markdown",
   "metadata": {},
   "source": [
    "## 2. Visualize Consumer Sentiment and Economic Indicators\n",
    "\n",
    "Let's create visualizations to understand the relationships between consumer sentiment, economic indicators, and recessions."
   ]
  },
  {
   "cell_type": "code",
   "execution_count": null,
   "metadata": {},
   "source": [
    "# Plot consumer sentiment over time with recession periods\n",
    "fig = plot_indicator_with_recessions(\n",
    "    merged_data, \n",
    "    'SENTIMENT', \n",
    "    title='Consumer Sentiment with Recession Periods'\n",
    ")\n",
    "plt.show()\n",
    "save_figure(fig, \"consumer_sentiment.png\")"
   ]
  },
  {
   "cell_type": "code",
   "execution_count": null,
   "metadata": {},
   "source": [
    "# Plot consumer sentiment vs unemployment rate\n",
    "fig = plot_sentiment_vs_indicator(\n",
    "    merged_data,\n",
    "    sentiment_col='SENTIMENT',\n",
    "    indicator_col='UNEMPLOYMENT'\n",
    ")\n",
    "plt.show()\n",
    "save_figure(fig, \"sentiment_vs_unemployment.png\")"
   ]
  },
  {
   "cell_type": "code",
   "execution_count": null,
   "metadata": {},
   "source": [
    "# Plot consumer sentiment vs GDP growth\n",
    "fig = plot_sentiment_vs_indicator(\n",
    "    merged_data,\n",
    "    sentiment_col='SENTIMENT',\n",
    "    indicator_col='GDP'\n",
    ")\n",
    "plt.show()\n",
    "save_figure(fig, \"sentiment_vs_gdp.png\")"
   ]
  },
  {
   "cell_type": "code",
   "execution_count": null,
   "metadata": {},
   "source": [
    "# Plot correlations between consumer sentiment and economic indicators\n",
    "fig = plot_sentiment_correlation_matrix(\n",
    "    merged_data,\n",
    "    sentiment_cols=['SENTIMENT'],\n",
    "    top_n=10\n",
    ")\n",
    "plt.show()\n",
    "save_figure(fig, \"sentiment_correlation_matrix.png\")"
   ]
  },
  {
   "cell_type": "markdown",
   "metadata": {},
   "source": [
    "## 3. Feature Engineering with the Combined Dataset\n",
    "\n",
    "Let's perform feature engineering on the combined dataset to prepare it for MDA."
   ]
  },
  {
   "cell_type": "code",
   "execution_count": null,
   "metadata": {},
   "source": [
    "# Handle missing values and create lag variables\n",
    "data_with_features = engineer_features(merged_data)\n",
    "\n",
    "print(f\"Data with features shape: {data_with_features.shape}\")\n",
    "print(f\"Number of features: {data_with_features.shape[1]}\")\n",
    "\n",
    "# Save the dataset with features\n",
    "from econ_downturn import get_output_paths\n",
    "output_paths = get_output_paths()\n",
    "output_dir = output_paths['data_dir']\n",
    "os.makedirs(output_dir, exist_ok=True)\n",
    "features_path = os.path.join(output_dir, 'data_with_features_and_sentiment.csv')\n",
    "data_with_features.to_csv(features_path)\n",
    "print(f\"Saved dataset with features to {features_path}\")"
   ]
  },
  {
   "cell_type": "markdown",
   "metadata": {},
   "source": [
    "## 4. Normalize the Data\n",
    "\n",
    "Let's normalize the features to ensure they are on the same scale for modeling."
   ]
  },
  {
   "cell_type": "code",
   "execution_count": null,
   "metadata": {},
   "source": [
    "# Normalize the data\n",
    "data_normalized, scaler = normalize_data(data_with_features)\n",
    "\n",
    "print(f\"Normalized data shape: {data_normalized.shape}\")\n",
    "\n",
    "# Save the normalized dataset\n",
    "normalized_path = os.path.join(output_dir, 'data_normalized_with_sentiment.csv')\n",
    "data_normalized.to_csv(normalized_path)\n",
    "print(f\"Saved normalized dataset to {normalized_path}\")"
   ]
  },
  {
   "cell_type": "markdown",
   "metadata": {},
   "source": [
    "## 5. Run Preliminary MDA Test\n",
    "\n",
    "Let's run a preliminary MDA test to see if including consumer sentiment improves the model's performance."
   ]
  },
  {
   "cell_type": "code",
   "execution_count": null,
   "metadata": {},
   "source": [
    "# Separate features and target\n",
    "X = data_normalized.drop(columns=['recession'])\n",
    "y = data_normalized['recession']\n",
    "\n",
    "# Apply MDA\n",
    "mda_results = apply_mda(X, y)\n",
    "\n",
    "# Print model performance metrics\n",
    "print(f\"Accuracy: {mda_results['accuracy']:.4f}\")\n",
    "print(\"\\nConfusion Matrix:\")\n",
    "print(mda_results['conf_matrix'])\n",
    "print(\"\\nClassification Report:\")\n",
    "print(mda_results['class_report'])\n",
    "print(f\"\\nCross-Validation Scores: {mda_results['cv_scores']}\")\n",
    "print(f\"Mean CV Score: {mda_results['cv_scores'].mean():.4f}\")"
   ]
  },
  {
   "cell_type": "code",
   "execution_count": null,
   "metadata": {},
   "source": [
    "# Plot feature importances\n",
    "if mda_results['feature_importance'] is not None:\n",
    "    fig = plot_feature_importance(mda_results['feature_importance'])\n",
    "    plt.show()\n",
    "    save_figure(fig, \"feature_importance_with_sentiment.png\")"
   ]
  },
  {
   "cell_type": "code",
   "execution_count": null,
   "metadata": {},
   "source": [
    "# Create and plot discriminant time series\n",
    "discriminant_df = create_discriminant_time_series(\n",
    "    mda_results['model'], X, y\n",
    ")\n",
    "\n",
    "fig = plot_discriminant_time_series(discriminant_df)\n",
    "plt.show()\n",
    "save_figure(fig, \"discriminant_time_series_with_sentiment.png\")"
   ]
  },
  {
   "cell_type": "markdown",
   "metadata": {},
   "source": [
    "## 6. Conclusion\n",
    "\n",
    "Based on the analysis, we can see that including consumer sentiment data in our model provides valuable insights into predicting recessions. The consumer sentiment indicators show strong correlations with economic downturns and appear as important features in our MDA model.\n",
    "\n",
    "Key findings:\n",
    "1. Consumer sentiment tends to decline before and during recessions\n",
    "2. There is a strong negative correlation between consumer sentiment and unemployment rate\n",
    "3. Including consumer sentiment in the MDA model improves its predictive performance\n",
    "4. Consumer sentiment-related features rank among the top predictors in the model\n",
    "\n",
    "Next steps:\n",
    "1. Further refine the feature engineering process to better capture the leading indicators\n",
    "2. Explore additional consumer sentiment metrics and their relationships with economic indicators\n",
    "3. Develop a real-time monitoring system that includes consumer sentiment data"
   ]
  }
 ],
 "metadata": {
  "kernelspec": {
   "display_name": "Python 3",
   "language": "python",
   "name": "python3"
  },
  "language_info": {
   "codemirror_mode": {
    "name": "ipython",
    "version": 3
   },
   "file_extension": ".py",
   "mimetype": "text/x-python",
   "name": "python",
   "nbconvert_exporter": "python",
   "pygments_lexer": "ipython3",
   "version": "3.8.10"
  }
 },
 "nbformat": 4,
 "nbformat_minor": 4
}
