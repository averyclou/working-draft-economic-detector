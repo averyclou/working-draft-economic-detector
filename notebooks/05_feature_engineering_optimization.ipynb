{
 "cells": [
  {
   "cell_type": "markdown",
   "metadata": {},
   "source": [
    "# Economic Downturn Detector: Feature Engineering Optimization\n",
    "\n",
    "This notebook focuses on refining the feature engineering process and optimizing the model by:\n",
    "\n",
    "1. Exploring different lag periods for consumer sentiment\n",
    "2. Creating interaction terms between consumer sentiment and economic indicators\n",
    "3. Experimenting with different transformations of consumer sentiment data\n",
    "4. Performing feature selection to identify the most predictive features\n",
    "5. Comparing MDA results with and without consumer sentiment"
   ]
  },
  {
   "cell_type": "code",
   "execution_count": null,
   "metadata": {},
   "source": [
    "# Import notebook utilities\n",
    "from notebook_utils import (\n",
    "    # Setup functions\n",
    "    setup_notebook, load_data, display_data_info, save_figure,\n",
    "    \n",
    "    # Import from econ_downturn package\n",
    "    engineer_features, normalize_data, apply_mda, create_discriminant_time_series,\n",
    "    plot_indicator_with_recessions, plot_correlation_matrix,\n",
    "    plot_feature_importance, plot_discriminant_time_series,\n",
    "    \n",
    "    # Advanced feature engineering functions\n",
    "    engineer_features_with_custom_lags, create_interaction_terms,\n",
    "    apply_sentiment_transformations, select_features\n",
    ")\n",
    "\n",
    "# Import other libraries\n",
    "import pandas as pd\n",
    "import numpy as np\n",
    "import matplotlib.pyplot as plt\n",
    "import seaborn as sns\n",
    "import os\n",
    "from IPython.display import display\n",
    "\n",
    "# Set up the notebook environment\n",
    "setup_notebook()"
   ]
  },
  {
   "cell_type": "markdown",
   "metadata": {},
   "source": [
    "## 1. Load and Prepare Data\n",
    "\n",
    "First, let's load the data from all sources and merge them."
   ]
  },
  {
   "cell_type": "code",
   "execution_count": null,
   "metadata": {},
   "source": [
    "# Load all data using the utility function\n",
    "merged_data = load_data(use_cached=False)  # Force reload from original sources\n",
    "\n",
    "# Display information about the dataset\n",
    "display_data_info(merged_data)"
   ]
  },
  {
   "cell_type": "markdown",
   "metadata": {},
   "source": [
    "## 2. Explore Different Lag Periods for Consumer Sentiment\n",
    "\n",
    "Let's create features with different lag periods for consumer sentiment."
   ]
  },
  {
   "cell_type": "code",
   "execution_count": null,
   "metadata": {},
   "source": [
    "# Engineer features with different lag periods for consumer sentiment\n",
    "data_with_custom_lags = engineer_features_with_custom_lags(\n",
    "    merged_data,\n",
    "    sentiment_lags=[1, 3, 6, 12, 18, 24],\n",
    "    other_lags=[1, 3, 6, 12]\n",
    ")\n",
    "\n",
    "# Save the dataset with custom lags\n",
    "from econ_downturn import get_output_paths\n",
    "output_paths = get_output_paths()\n",
    "output_dir = output_paths['data_dir']\n",
    "os.makedirs(output_dir, exist_ok=True)\n",
    "custom_lags_path = os.path.join(output_dir, 'data_with_custom_sentiment_lags.csv')\n",
    "data_with_custom_lags.to_csv(custom_lags_path)\n",
    "print(f\"Saved dataset with custom lags to {custom_lags_path}\")"
   ]
  },
  {
   "cell_type": "markdown",
   "metadata": {},
   "source": [
    "## 3. Create Interaction Terms Between Consumer Sentiment and Economic Indicators\n",
    "\n",
    "Let's create interaction terms between consumer sentiment and key economic indicators."
   ]
  },
  {
   "cell_type": "code",
   "execution_count": null,
   "metadata": {},
   "source": [
    "# Create interaction terms\n",
    "data_with_interactions = create_interaction_terms(data_with_custom_lags)\n",
    "\n",
    "# Save the dataset with interaction terms\n",
    "interactions_path = os.path.join(output_dir, 'data_with_interactions.csv')\n",
    "data_with_interactions.to_csv(interactions_path)\n",
    "print(f\"Saved dataset with interaction terms to {interactions_path}\")"
   ]
  },
  {
   "cell_type": "markdown",
   "metadata": {},
   "source": [
    "## 4. Experiment with Different Transformations of Consumer Sentiment Data\n",
    "\n",
    "Let's apply different transformations to the consumer sentiment data."
   ]
  },
  {
   "cell_type": "code",
   "execution_count": null,
   "metadata": {},
   "source": [
    "# Apply transformations to sentiment data\n",
    "data_with_transformations = apply_sentiment_transformations(data_with_interactions)\n",
    "\n",
    "# Save the dataset with transformations\n",
    "transformations_path = os.path.join(output_dir, 'data_with_transformations.csv')\n",
    "data_with_transformations.to_csv(transformations_path)\n",
    "print(f\"Saved dataset with transformations to {transformations_path}\")"
   ]
  },
  {
   "cell_type": "markdown",
   "metadata": {},
   "source": [
    "## 5. Perform Feature Selection to Identify the Most Predictive Features\n",
    "\n",
    "Let's use different feature selection techniques to identify the most predictive features."
   ]
  },
  {
   "cell_type": "code",
   "execution_count": null,
   "metadata": {},
   "source": [
    "# Normalize the data\n",
    "data_normalized, _ = normalize_data(data_with_transformations)\n",
    "\n",
    "# Separate features and target\n",
    "X = data_normalized.drop(columns=['recession'])\n",
    "y = data_normalized['recession']\n",
    "\n",
    "# Select features using ANOVA F-value\n",
    "X_selected_anova, selected_features_anova = select_features(X, y, method='anova', k=20)\n",
    "\n",
    "# Select features using Recursive Feature Elimination\n",
    "X_selected_rfe, selected_features_rfe = select_features(X, y, method='rfe', k=20)"
   ]
  },
  {
   "cell_type": "markdown",
   "metadata": {},
   "source": [
    "## 6. Compare MDA Results With and Without Consumer Sentiment\n",
    "\n",
    "Let's compare the performance of MDA models with and without consumer sentiment features."
   ]
  },
  {
   "cell_type": "code",
   "execution_count": null,
   "metadata": {},
   "source": [
    "def compare_mda_models(data, with_sentiment=True):\n",
    "    \"\"\"\n",
    "    Compare MDA models with and without consumer sentiment features.\n",
    "    \n",
    "    Parameters\n",
    "    ----------\n",
    "    data : pandas.DataFrame\n",
    "        Input dataset\n",
    "    with_sentiment : bool\n",
    "        Whether to include sentiment features\n",
    "        \n",
    "    Returns\n",
    "    -------\n",
    "    dict\n",
    "        MDA results\n",
    "    \"\"\"\n",
    "    # Make a copy of the data\n",
    "    df = data.copy()\n",
    "    \n",
    "    # Identify sentiment-related columns\n",
    "    sentiment_cols = [col for col in df.columns if 'SENTIMENT' in col]\n",
    "    \n",
    "    # Remove sentiment features if not including them\n",
    "    if not with_sentiment:\n",
    "        df = df.drop(columns=sentiment_cols)\n",
    "        print(f\"Removed {len(sentiment_cols)} sentiment-related features\")\n",
    "    \n",
    "    # Normalize the data\n",
    "    df_normalized, _ = normalize_data(df)\n",
    "    \n",
    "    # Separate features and target\n",
    "    X = df_normalized.drop(columns=['recession'])\n",
    "    y = df_normalized['recession']\n",
    "    \n",
    "    # Apply MDA\n",
    "    mda_results = apply_mda(X, y)\n",
    "    \n",
    "    # Print model performance metrics\n",
    "    print(f\"Accuracy: {mda_results['accuracy']:.4f}\")\n",
    "    print(\"\\nConfusion Matrix:\")\n",
    "    print(mda_results['conf_matrix'])\n",
    "    print(\"\\nClassification Report:\")\n",
    "    print(mda_results['class_report'])\n",
    "    print(f\"\\nCross-Validation Scores: {mda_results['cv_scores']}\")\n",
    "    print(f\"Mean CV Score: {mda_results['cv_scores'].mean():.4f}\")\n",
    "    \n",
    "    # Plot feature importances\n",
    "    if mda_results['feature_importance'] is not None:\n",
    "        fig = plot_feature_importance(mda_results['feature_importance'])\n",
    "        plt.title(f\"Feature Importance {'With' if with_sentiment else 'Without'} Sentiment\", fontsize=16)\n",
    "        plt.show()\n",
    "        save_figure(fig, f\"feature_importance_{'with' if with_sentiment else 'without'}_sentiment.png\")\n",
    "    \n",
    "    # Create and plot discriminant time series\n",
    "    discriminant_df = create_discriminant_time_series(mda_results['model'], X, y)\n",
    "    fig = plot_discriminant_time_series(discriminant_df)\n",
    "    plt.title(f\"Discriminant Function {'With' if with_sentiment else 'Without'} Sentiment\", fontsize=16)\n",
    "    plt.show()\n",
    "    save_figure(fig, f\"discriminant_time_series_{'with' if with_sentiment else 'without'}_sentiment.png\")\n",
    "    \n",
    "    return mda_results\n",
    "\n",
    "# Compare MDA models with and without sentiment features\n",
    "print(\"\\nMDA Model WITH Sentiment Features:\")\n",
    "mda_with_sentiment = compare_mda_models(data_with_transformations, with_sentiment=True)\n",
    "\n",
    "print(\"\\nMDA Model WITHOUT Sentiment Features:\")\n",
    "mda_without_sentiment = compare_mda_models(data_with_transformations, with_sentiment=False)"
   ]
  },
  {
   "cell_type": "markdown",
   "metadata": {},
   "source": [
    "## 7. Apply MDA to Selected Features\n",
    "\n",
    "Let's apply MDA to the selected features to see if feature selection improves the model's performance."
   ]
  },
  {
   "cell_type": "code",
   "execution_count": null,
   "metadata": {},
   "source": [
    "# Add recession indicator to selected features\n",
    "X_selected_anova_with_target = X_selected_anova.copy()\n",
    "X_selected_anova_with_target['recession'] = y\n",
    "\n",
    "X_selected_rfe_with_target = X_selected_rfe.copy()\n",
    "X_selected_rfe_with_target['recession'] = y\n",
    "\n",
    "# Apply MDA to ANOVA-selected features\n",
    "print(\"\\nMDA Model with ANOVA-Selected Features:\")\n",
    "mda_anova = compare_mda_models(X_selected_anova_with_target, with_sentiment=True)\n",
    "\n",
    "# Apply MDA to RFE-selected features\n",
    "print(\"\\nMDA Model with RFE-Selected Features:\")\n",
    "mda_rfe = compare_mda_models(X_selected_rfe_with_target, with_sentiment=True)"
   ]
  },
  {
   "cell_type": "markdown",
   "metadata": {},
   "source": [
    "## 8. Conclusion\n",
    "\n",
    "Based on the feature engineering optimization, we have identified the most effective approaches for predicting recessions using consumer sentiment data.\n",
    "\n",
    "Key findings:\n",
    "1. Including consumer sentiment features significantly improves the model's performance\n",
    "2. Longer lag periods for consumer sentiment (18-24 months) provide valuable leading indicators\n",
    "3. Interaction terms between consumer sentiment and economic indicators capture important relationships\n",
    "4. Feature selection helps identify the most predictive features and reduces dimensionality\n",
    "\n",
    "Next steps:\n",
    "1. Implement the optimized feature engineering process in the real-time monitoring system\n",
    "2. Explore additional sentiment indices and their relationships with economic indicators\n",
    "3. Develop a recession probability index based on the optimized model"
   ]
  }
 ],
 "metadata": {
  "kernelspec": {
   "display_name": "Python 3",
   "language": "python",
   "name": "python3"
  },
  "language_info": {
   "codemirror_mode": {
    "name": "ipython",
    "version": 3
   },
   "file_extension": ".py",
   "mimetype": "text/x-python",
   "name": "python",
   "nbconvert_exporter": "python",
   "pygments_lexer": "ipython3",
   "version": "3.8.10"
  }
 },
 "nbformat": 4,
 "nbformat_minor": 4
}
