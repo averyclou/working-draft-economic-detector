{
 "cells": [
  {
   "cell_type": "markdown",
   "metadata": {},
   "source": [
    "# Fine-Tuning Our Recession Prediction Features\n",
    "\n",
    "Now that we've got a working model, let's optimize it! We'll experiment with different feature engineering approaches to squeeze out every bit of predictive power we can get from our economic data.\n",
    "\n",
    "**What we'll try:**\n",
    "- Test different lag periods for consumer sentiment (how far back should we look?)\n",
    "- Create interaction terms between sentiment and economic indicators\n",
    "- Transform sentiment data in various ways to capture different patterns\n",
    "- Use feature selection to find the cream of the crop\n",
    "- Compare models with and without sentiment to prove its value"
   ]
  },
  {
   "cell_type": "code",
   "execution_count": null,
   "metadata": {},
   "outputs": [],
   "source": [
    "# Import notebook utilities\n",
    "from notebook_utils import init_notebook, load_data, display_data_info, save_figure\n",
    "import os\n",
    "import numpy as np\n",
    "import matplotlib.pyplot as plt\n",
    "from IPython.display import display\n",
    "\n",
    "# Initialize notebook environment\n",
    "init_notebook()\n",
    "\n",
    "# Import from econ_downturn package\n",
    "from econ_downturn import (\n",
    "    engineer_features, normalize_data, apply_mda, create_discriminant_time_series,\n",
    "    plot_indicator_with_recessions, plot_correlation_matrix,\n",
    "    plot_feature_importance, plot_discriminant_time_series,\n",
    "    \n",
    "    # Advanced feature engineering functions\n",
    "    engineer_features_with_custom_lags, create_interaction_terms,\n",
    "    apply_sentiment_transformations, select_features\n",
    ")"
   ]
  },
  {
   "cell_type": "markdown",
   "metadata": {},
   "source": [
    "## Getting Our Data Ready\n",
    "\n",
    "Let's start by loading all our data sources and getting everything set up for our optimization experiments."
   ]
  },
  {
   "cell_type": "code",
   "execution_count": null,
   "metadata": {},
   "outputs": [],
   "source": [
    "# Load all data using the utility function\n",
    "merged_data = load_data(use_cached=False)  # Force reload from original sources\n",
    "\n",
    "# Display information about the dataset\n",
    "display_data_info(merged_data)"
   ]
  },
  {
   "cell_type": "markdown",
   "metadata": {},
   "source": [
    "## Experimenting with Sentiment Lag Periods\n",
    "\n",
    "How far back should we look at consumer sentiment to predict recessions? Let's try different lag periods - from 1 month to 2 years - and see which ones give us the best signals."
   ]
  },
  {
   "cell_type": "code",
   "execution_count": null,
   "metadata": {},
   "outputs": [],
   "source": [
    "# Engineer features with different lag periods for consumer sentiment\n",
    "data_with_custom_lags = engineer_features_with_custom_lags(\n",
    "    merged_data,\n",
    "    sentiment_lags=[1, 3, 6, 12, 18, 24],\n",
    "    other_lags=[1, 3, 6, 12]\n",
    ")\n",
    "\n",
    "# Save the dataset with custom lags\n",
    "from econ_downturn import get_data_paths\n",
    "data_paths = get_data_paths()\n",
    "output_dir = data_paths['processed_dir']\n",
    "os.makedirs(output_dir, exist_ok=True)\n",
    "custom_lags_path = os.path.join(output_dir, 'data_with_custom_sentiment_lags.csv')\n",
    "data_with_custom_lags.to_csv(custom_lags_path)\n",
    "print(f\"Saved dataset with custom lags to {custom_lags_path}\")"
   ]
  },
  {
   "cell_type": "markdown",
   "metadata": {},
   "source": [
    "## Building Interaction Features\n",
    "\n",
    "Sometimes the magic happens when variables work together. Let's create interaction terms between consumer sentiment and economic indicators to capture how they amplify each other's effects."
   ]
  },
  {
   "cell_type": "code",
   "execution_count": null,
   "metadata": {},
   "outputs": [],
   "source": [
    "# Create interaction terms\n",
    "data_with_interactions = create_interaction_terms(data_with_custom_lags)\n",
    "\n",
    "# Save the dataset with interaction terms\n",
    "interactions_path = os.path.join(output_dir, 'data_with_interactions.csv')\n",
    "data_with_interactions.to_csv(interactions_path)\n",
    "print(f\"Saved dataset with interaction terms to {interactions_path}\")"
   ]
  },
  {
   "cell_type": "markdown",
   "metadata": {},
   "source": [
    "## Transforming Sentiment Data\n",
    "\n",
    "Raw sentiment data is good, but transformed sentiment data might be even better. Let's try different mathematical transformations to see if we can extract more predictive power."
   ]
  },
  {
   "cell_type": "code",
   "execution_count": null,
   "metadata": {},
   "outputs": [],
   "source": [
    "# Apply transformations to sentiment data\n",
    "data_with_transformations = apply_sentiment_transformations(data_with_interactions)\n",
    "\n",
    "# Save the dataset with transformations\n",
    "transformations_path = os.path.join(output_dir, 'data_with_transformations.csv')\n",
    "data_with_transformations.to_csv(transformations_path)\n",
    "print(f\"Saved dataset with transformations to {transformations_path}\")"
   ]
  },
  {
   "cell_type": "markdown",
   "metadata": {},
   "source": [
    "## Finding the Best Features\n",
    "\n",
    "We've created a lot of features - maybe too many! Let's use statistical methods to identify which ones are actually the most useful for predicting recessions."
   ]
  },
  {
   "cell_type": "code",
   "execution_count": null,
   "metadata": {},
   "outputs": [],
   "source": [
    "# Normalize the data\n",
    "data_normalized, _ = normalize_data(data_with_transformations)\n",
    "\n",
    "# Separate features and target\n",
    "X = data_normalized.drop(columns=['recession'])\n",
    "y = data_normalized['recession']\n",
    "\n",
    "# Select features using ANOVA F-value\n",
    "X_selected_anova, selected_features_anova = select_features(X, y, method='anova', k=20)\n",
    "\n",
    "# Select features using Recursive Feature Elimination\n",
    "X_selected_rfe, selected_features_rfe = select_features(X, y, method='rfe', k=20)"
   ]
  },
  {
   "cell_type": "markdown",
   "metadata": {},
   "source": [
    "## The Sentiment Showdown\n",
    "\n",
    "Time for the ultimate test - does consumer sentiment actually make our model better? Let's run the same analysis with and without sentiment features to see the difference."
   ]
  },
  {
   "cell_type": "code",
   "execution_count": null,
   "metadata": {},
   "outputs": [],
   "source": [
    "def compare_mda_models(data, with_sentiment=True):\n",
    "    \"\"\"\n",
    "    Compare MDA models with and without consumer sentiment features.\n",
    "    \n",
    "    Parameters\n",
    "    ----------\n",
    "    data : pandas.DataFrame\n",
    "        Input dataset\n",
    "    with_sentiment : bool\n",
    "        Whether to include sentiment features\n",
    "        \n",
    "    Returns\n",
    "    -------\n",
    "    dict\n",
    "        MDA results\n",
    "    \"\"\"\n",
    "    # Make a copy of the data\n",
    "    df = data.copy()\n",
    "    \n",
    "    # Identify sentiment-related columns\n",
    "    sentiment_cols = [col for col in df.columns if 'SENTIMENT' in col]\n",
    "    \n",
    "    # Remove sentiment features if not including them\n",
    "    if not with_sentiment:\n",
    "        df = df.drop(columns=sentiment_cols)\n",
    "        print(f\"Removed {len(sentiment_cols)} sentiment-related features\")\n",
    "    \n",
    "    # Normalize the data\n",
    "    df_normalized, _ = normalize_data(df)\n",
    "    \n",
    "    # Separate features and target\n",
    "    X = df_normalized.drop(columns=['recession'])\n",
    "    y = df_normalized['recession']\n",
    "    \n",
    "    # Apply MDA\n",
    "    mda_results = apply_mda(X, y)\n",
    "    \n",
    "    # Print model performance metrics\n",
    "    print(f\"Accuracy: {mda_results['accuracy']:.4f}\")\n",
    "    print(\"\\nConfusion Matrix:\")\n",
    "    print(mda_results['conf_matrix'])\n",
    "    print(\"\\nClassification Report:\")\n",
    "    print(mda_results['class_report'])\n",
    "    print(f\"\\nCross-Validation Scores: {mda_results['cv_scores']}\")\n",
    "    print(f\"Mean CV Score: {mda_results['cv_scores'].mean():.4f}\")\n",
    "    \n",
    "    # Plot feature importances\n",
    "    if mda_results['feature_importance'] is not None:\n",
    "        fig = plot_feature_importance(mda_results['feature_importance'])\n",
    "        plt.title(f\"Feature Importance {'With' if with_sentiment else 'Without'} Sentiment\", fontsize=16)\n",
    "        plt.show()\n",
    "        save_figure(fig, f\"feature_importance_{'with' if with_sentiment else 'without'}_sentiment.png\")\n",
    "    \n",
    "    # Create and plot discriminant time series\n",
    "    discriminant_df = create_discriminant_time_series(mda_results['model'], X, y)\n",
    "    fig = plot_discriminant_time_series(discriminant_df)\n",
    "    plt.title(f\"Discriminant Function {'With' if with_sentiment else 'Without'} Sentiment\", fontsize=16)\n",
    "    plt.show()\n",
    "    save_figure(fig, f\"discriminant_time_series_{'with' if with_sentiment else 'without'}_sentiment.png\")\n",
    "    \n",
    "    return mda_results\n",
    "\n",
    "# Compare MDA models with and without sentiment features\n",
    "print(\"\\nMDA Model WITH Sentiment Features:\")\n",
    "mda_with_sentiment = compare_mda_models(data_with_transformations, with_sentiment=True)\n",
    "\n",
    "print(\"\\nMDA Model WITHOUT Sentiment Features:\")\n",
    "mda_without_sentiment = compare_mda_models(data_with_transformations, with_sentiment=False)"
   ]
  },
  {
   "cell_type": "markdown",
   "metadata": {},
   "source": [
    "## Testing Our Selected Features\n",
    "\n",
    "Now let's see if our feature selection actually worked. Do the hand-picked features perform better than using everything we've got?"
   ]
  },
  {
   "cell_type": "code",
   "execution_count": null,
   "metadata": {},
   "outputs": [],
   "source": [
    "# Add recession indicator to selected features\n",
    "X_selected_anova_with_target = X_selected_anova.copy()\n",
    "X_selected_anova_with_target['recession'] = y\n",
    "\n",
    "X_selected_rfe_with_target = X_selected_rfe.copy()\n",
    "X_selected_rfe_with_target['recession'] = y\n",
    "\n",
    "# Apply MDA to ANOVA-selected features\n",
    "print(\"\\nMDA Model with ANOVA-Selected Features:\")\n",
    "mda_anova = compare_mda_models(X_selected_anova_with_target, with_sentiment=True)\n",
    "\n",
    "# Apply MDA to RFE-selected features\n",
    "print(\"\\nMDA Model with RFE-Selected Features:\")\n",
    "mda_rfe = compare_mda_models(X_selected_rfe_with_target, with_sentiment=True)"
   ]
  }
 ],
 "metadata": {
  "kernelspec": {
   "display_name": "econ-downturn",
   "language": "python",
   "name": "python3"
  },
  "language_info": {
   "codemirror_mode": {
    "name": "ipython",
    "version": 3
   },
   "file_extension": ".py",
   "mimetype": "text/x-python",
   "name": "python",
   "nbconvert_exporter": "python",
   "pygments_lexer": "ipython3",
   "version": "3.8.20"
  }
 },
 "nbformat": 4,
 "nbformat_minor": 4
}
