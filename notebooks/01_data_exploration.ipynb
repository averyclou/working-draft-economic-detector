{
 "cells": [
  {
   "cell_type": "markdown",
   "metadata": {},
   "source": [
    "# Digging Into Economic Data: What Signals a Recession?\n",
    "\n",
    "Let's dive into the economic data we've gathered and see what stories it tells us about past recessions. We'll look at patterns, spot interesting relationships, and get a feel for how different economic indicators behave when the economy takes a downturn."
   ]
  },
  {
   "cell_type": "code",
   "execution_count": 6,
   "metadata": {},
   "outputs": [
    {
     "name": "stdout",
     "output_type": "stream",
     "text": [
      "Initializing notebook environment...\n",
      "✓ econ_downturn package already available\n",
      "✓ Notebook environment configured\n",
      "✓ Environment variables loaded\n",
      "\n",
      "Available data paths:\n",
      "  fred_dir: c:\\Users\\Admin\\economic-downturn-detector\\Copy of Economic Downturn\\economic-downturn-detector\\matt-version-downturn-detector\\data\\fred\n",
      "  nber_dir: c:\\Users\\Admin\\economic-downturn-detector\\Copy of Economic Downturn\\economic-downturn-detector\\matt-version-downturn-detector\\data\\nber\n",
      "  processed_dir: c:\\Users\\Admin\\economic-downturn-detector\\Copy of Economic Downturn\\economic-downturn-detector\\matt-version-downturn-detector\\data\\processed\n",
      "  fred_all_indicators: c:\\Users\\Admin\\economic-downturn-detector\\Copy of Economic Downturn\\economic-downturn-detector\\matt-version-downturn-detector\\data\\fred\\all_indicators.csv\n",
      "  nber_recession_indicator: c:\\Users\\Admin\\economic-downturn-detector\\Copy of Economic Downturn\\economic-downturn-detector\\matt-version-downturn-detector\\data\\nber\\recession_indicator.csv\n",
      "  merged_data: c:\\Users\\Admin\\economic-downturn-detector\\Copy of Economic Downturn\\economic-downturn-detector\\matt-version-downturn-detector\\data\\processed\\merged_data.csv\n",
      "  data_with_features: c:\\Users\\Admin\\economic-downturn-detector\\Copy of Economic Downturn\\economic-downturn-detector\\matt-version-downturn-detector\\data\\processed\\data_with_features.csv\n",
      "  data_normalized: c:\\Users\\Admin\\economic-downturn-detector\\Copy of Economic Downturn\\economic-downturn-detector\\matt-version-downturn-detector\\data\\processed\\data_normalized.csv\n",
      "  data_pca: c:\\Users\\Admin\\economic-downturn-detector\\Copy of Economic Downturn\\economic-downturn-detector\\matt-version-downturn-detector\\data\\processed\\data_pca.csv\n",
      "\n",
      "Available output paths:\n",
      "  images_dir: c:\\Users\\Admin\\economic-downturn-detector\\Copy of Economic Downturn\\economic-downturn-detector\\matt-version-downturn-detector\\docs/images\n",
      "  feature_importance: c:\\Users\\Admin\\economic-downturn-detector\\Copy of Economic Downturn\\economic-downturn-detector\\matt-version-downturn-detector\\docs/images\\feature_importance.png\n",
      "  mda_projection: c:\\Users\\Admin\\economic-downturn-detector\\Copy of Economic Downturn\\economic-downturn-detector\\matt-version-downturn-detector\\docs/images\\mda_projection.png\n",
      "  discriminant_time: c:\\Users\\Admin\\economic-downturn-detector\\Copy of Economic Downturn\\economic-downturn-detector\\matt-version-downturn-detector\\docs/images\\discriminant_time.png\n",
      "  correlation_matrix: c:\\Users\\Admin\\economic-downturn-detector\\Copy of Economic Downturn\\economic-downturn-detector\\matt-version-downturn-detector\\docs/images\\correlation_matrix.png\n",
      "  recession_correlations: c:\\Users\\Admin\\economic-downturn-detector\\Copy of Economic Downturn\\economic-downturn-detector\\matt-version-downturn-detector\\docs/images\\recession_correlations.png\n",
      "  pca_explained_variance: c:\\Users\\Admin\\economic-downturn-detector\\Copy of Economic Downturn\\economic-downturn-detector\\matt-version-downturn-detector\\docs/images\\pca_explained_variance.png\n",
      "✓ Notebook initialization complete!\n",
      "\n",
      "You can now import econ_downturn functions directly:\n",
      "  from econ_downturn import get_all_data, plot_indicator_with_recessions\n"
     ]
    }
   ],
   "source": [
    "# Initialize notebook with all necessary imports and setup\n",
    "from notebook_utils import init_notebook\n",
    "init_notebook()\n",
    "\n",
    "# Import additional libraries we'll need\n",
    "import pandas as pd\n",
    "import numpy as np\n",
    "import matplotlib.pyplot as plt\n",
    "import seaborn as sns\n",
    "from IPython.display import display\n",
    "\n",
    "# Import specific functions from notebook_utils\n",
    "from notebook_utils import load_data, display_data_info, save_figure\n",
    "\n",
    "# Import econ_downturn functions directly\n",
    "from econ_downturn import (\n",
    "    plot_indicator_with_recessions, plot_correlation_matrix,\n",
    "    plot_recession_correlations\n",
    ")"
   ]
  },
  {
   "cell_type": "markdown",
   "metadata": {},
   "source": [
    "## Getting Our Data Ready\n",
    "\n",
    "First, our economic data will be loaded. For the purpose of this project, we have used macroeconomic indicators from FRED and UMICH and recesson dates from NBER. The recession rates in particular are key for the binary classification of our MDA model in future steps. This NBER data distinguishes the positive class (recessionary) vs. the negative class (non-recessionary). For the purpose of this section, the blended dataset is simply pulled from the notebook_utils utility module.\n",
    "\n",
    "1. NBER is used to flag recessionary vs. non-recessionary periods.\n",
    "\n",
    "2. FRED and UMICH data is used for macroeconomic indicators.\n",
    "\n",
    "3. These three datasets are merged together to retrieve our full initial dataset."
   ]
  },
  {
   "cell_type": "code",
   "execution_count": 7,
   "metadata": {},
   "outputs": [
    {
     "name": "stdout",
     "output_type": "stream",
     "text": [
      "Loading data from original sources...\n",
      "2025-06-11 18:21:59,616 - econ_downturn.data.data_loader - WARNING - FRED data file not found at c:\\Users\\Admin\\economic-downturn-detector\\Copy of Economic Downturn\\economic-downturn-detector\\matt-version-downturn-detector\\data\\fred\\all_indicators.csv\n",
      "2025-06-11 18:21:59,659 - econ_downturn.data.data_loader - WARNING - NBER data file not found at c:\\Users\\Admin\\economic-downturn-detector\\Copy of Economic Downturn\\economic-downturn-detector\\matt-version-downturn-detector\\data\\nber\\recession_indicator.csv\n",
      "2025-06-11 18:21:59,660 - econ_downturn.data.data_loader - WARNING - UMich data file not found at c:\\Users\\Admin\\economic-downturn-detector\\Copy of Economic Downturn\\economic-downturn-detector\\matt-version-downturn-detector\\data\\umich\\all_sentiment.csv\n",
      "2025-06-11 18:21:59,662 - econ_downturn.data.data_loader - WARNING - Dataset 'FRED' is empty and will be skipped\n",
      "2025-06-11 18:21:59,663 - econ_downturn.data.data_loader - WARNING - Dataset 'NBER' is empty and will be skipped\n",
      "2025-06-11 18:21:59,664 - econ_downturn.data.data_loader - WARNING - Dataset 'UMICH' is empty and will be skipped\n",
      "2025-06-11 18:21:59,665 - econ_downturn.data.data_loader - WARNING - No data available to merge\n",
      "Failed to load data.\n"
     ]
    }
   ],
   "source": [
    "# Load all data using the utility function\n",
    "merged_data = load_data(use_cached=True)"
   ]
  },
  {
   "cell_type": "markdown",
   "metadata": {},
   "source": [
    "## What Does Our Dataset Look Like?\n",
    "\n",
    "In this section, we examine the basic structure and quality of the dataset using our display_data_info() function. The purpose of this function is diagnostic, and asseses whether our data is ready for analysis and modeling. This step is targeted at identifying initial data quality issues such as missing values or irregular time coverage. These need to be addressed before modeling.\n",
    "\n",
    "The function's purpose:\n",
    "\n",
    "1. Checks whether the dataset is empty (or null).\n",
    "\n",
    "2. Reports the time range covered by the dataset. It assumes a time-based index.\n",
    "\n",
    "3. Generates a descriptive statistics summary for each feature including mean, standard deviation, and range.\n",
    "\n",
    "4. Calculates the number and % of missing values in each column, then lists in descending order of missing quantity."
   ]
  },
  {
   "cell_type": "code",
   "execution_count": 8,
   "metadata": {},
   "outputs": [
    {
     "name": "stdout",
     "output_type": "stream",
     "text": [
      "No data to display.\n"
     ]
    }
   ],
   "source": [
    "# Display information about the dataset\n",
    "display_data_info(merged_data)"
   ]
  },
  {
   "cell_type": "markdown",
   "metadata": {},
   "source": [
    "## Plotting the Economic Story\n",
    "\n",
    "This section explores basic time-series behavior of our various macroeconomic indicators by generating line plots over time. Each of these plots will overlay a single economic indicator with officially classified U.S. recessionary periods highlighted in the background. This shading represents NBER's defined recessionary intervals.\n",
    "\n",
    "Our goal is to visualize how different indicators fluctuate leading up to, during, and after known recessions. For example, we could observe that the unemployment rate peaks right before recessions, or another interest variable drobs shortly at recession onset. These visual patterns help inform the viewer which indicators are useful for predictive modeling.\n",
    "\n",
    "The logic lays out the following steps:\n",
    "\n",
    "1. Filters out the recession classification column, as this is the target variable and not a prediction indicator.\n",
    "\n",
    "2. Uses only the first five indicators for brevity.\n",
    "\n",
    "3. For each indicator, calls our utility function plot_indicator_with_recessions() to generate a line chart with the indicator value over time, overlay shaded bands to show recessionary periods, and displays the final figure."
   ]
  },
  {
   "cell_type": "code",
   "execution_count": 9,
   "metadata": {},
   "outputs": [],
   "source": [
    "if merged_data is not None and 'recession' in merged_data.columns:\n",
    "    # Plot key economic indicators\n",
    "    indicators_to_plot = [\n",
    "        col for col in merged_data.columns if col != 'recession'\n",
    "    ]\n",
    "    \n",
    "    for indicator in indicators_to_plot[:5]:  # Plot first 5 indicators for brevity\n",
    "        if indicator in merged_data.columns:\n",
    "            fig = plot_indicator_with_recessions(\n",
    "                merged_data, \n",
    "                indicator,\n",
    "                title=f\"{indicator} Over Time\"\n",
    "            )\n",
    "            plt.show()\n",
    "            \n",
    "            # Save the figure\n",
    "            save_figure(fig, f\"{indicator.lower()}_over_time.png\")"
   ]
  },
  {
   "cell_type": "markdown",
   "metadata": {},
   "source": [
    "## 4. Correlation Analysis\n",
    "\n",
    "This section is aimed at investigating statistical relationships between macroeconomic indicators, namely with correlation analysis. This is to understand which indicators move together, expanding our knowledge of how our indicator sets interact. This helps us identify basic predictors for our future MDA classification model. There are two visual analyses performed within the code block:\n",
    "\n",
    "\n",
    "#### 1. Correlation Matrix:\n",
    "Generates a heatmap of Pearson correlation coefficients among every numeric feature in the dataset. Naturally, this excludes the target variable of \"recesssion\". Values range from -1 to 1 where:\n",
    "\n",
    "1a. Checks if the input data is valid before preceeding.\n",
    "\n",
    "2a. If so, the function calculates the correlation coefficient for each feature compared to the other features.\n",
    "\n",
    "3a. Returns a colored coded square grid where darker colors indicate stronger correlations, and lighter colors indicate weaker.\n",
    "\n",
    "\n",
    "\n",
    "#### 2. Recession Correlation Plot (conditional):\n",
    "Assuming the dataset has a binary recession column (as it should, the fact that it's conditional is simply an effort to error-proof the code), this plot shows the strength of each indicator's correlation with recession occurence. This essentially ranks indicators by their correlation in recessionary periods.\n",
    "\n",
    "1b. The dataset is checked for a valid binary recession indicator column.\n",
    "\n",
    "2b. If so, the function calculates the correlation coefficient for each feature compared to the recessionary flag.\n",
    "\n",
    "3b. Each feature is checked for correlation relevance and included in the final heatmap."
   ]
  },
  {
   "cell_type": "code",
   "execution_count": 10,
   "metadata": {},
   "outputs": [],
   "source": [
    "if merged_data is not None:\n",
    "    # Plot correlation matrix\n",
    "    fig = plot_correlation_matrix(merged_data)\n",
    "    plt.show()\n",
    "    save_figure(fig, \"correlation_matrix.png\")\n",
    "    \n",
    "    # If recession indicator is available, show correlations with recession\n",
    "    if 'recession' in merged_data.columns:\n",
    "        fig = plot_recession_correlations(merged_data)\n",
    "        plt.show()\n",
    "        save_figure(fig, \"recession_correlations.png\")"
   ]
  }
 ],
 "metadata": {
  "kernelspec": {
   "display_name": "Python 3",
   "language": "python",
   "name": "python3"
  },
  "language_info": {
   "codemirror_mode": {
    "name": "ipython",
    "version": 3
   },
   "file_extension": ".py",
   "mimetype": "text/x-python",
   "name": "python",
   "nbconvert_exporter": "python",
   "pygments_lexer": "ipython3",
   "version": "3.12.1"
  }
 },
 "nbformat": 4,
 "nbformat_minor": 4
}
