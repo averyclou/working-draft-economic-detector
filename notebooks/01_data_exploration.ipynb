{
 "cells": [
  {
   "cell_type": "markdown",
   "metadata": {},
   "source": [
    "# Economic Downturn Detector: Data Exploration\n",
    "\n",
    "This notebook explores the economic indicators data collected from various sources to understand their patterns and relationships with recession periods."
   ]
  },
  {
   "cell_type": "code",
   "execution_count": 1,
   "metadata": {},
   "outputs": [
    {
     "name": "stdout",
     "output_type": "stream",
     "text": [
      "Notebook environment set up successfully.\n",
      "Available data paths:\n",
      "  fred_dir: data/fred\n",
      "  nber_dir: data/nber\n",
      "  processed_dir: data/processed\n",
      "  fred_all_indicators: data/fred/all_indicators.csv\n",
      "  nber_recession_indicator: data/nber/recession_indicator.csv\n",
      "  merged_data: data/processed/merged_data.csv\n",
      "  data_with_features: data/processed/data_with_features.csv\n",
      "  data_normalized: data/processed/data_normalized.csv\n",
      "  data_pca: data/processed/data_pca.csv\n",
      "\n",
      "Available output paths:\n",
      "  images_dir: docs/images\n",
      "  feature_importance: docs/images/feature_importance.png\n",
      "  mda_projection: docs/images/mda_projection.png\n",
      "  discriminant_time: docs/images/discriminant_time.png\n",
      "  correlation_matrix: docs/images/correlation_matrix.png\n",
      "  recession_correlations: docs/images/recession_correlations.png\n",
      "  pca_explained_variance: docs/images/pca_explained_variance.png\n"
     ]
    }
   ],
   "source": [
    "# Import notebook utilities\n",
    "from notebook_utils import (\n",
    "    # Setup functions\n",
    "    setup_notebook, load_data, display_data_info, save_figure,\n",
    "    \n",
    "    # Import from econ_downturn package\n",
    "    plot_indicator_with_recessions, plot_correlation_matrix,\n",
    "    plot_recession_correlations\n",
    ")\n",
    "\n",
    "# Import other libraries\n",
    "import pandas as pd\n",
    "import numpy as np\n",
    "import matplotlib.pyplot as plt\n",
    "import seaborn as sns\n",
    "from IPython.display import display\n",
    "\n",
    "# Set up the notebook environment\n",
    "setup_notebook()"
   ]
  },
  {
   "cell_type": "markdown",
   "metadata": {},
   "source": [
    "## 1. Load the Data\n",
    "\n",
    "First, let's load the economic indicators data and the recession indicator data."
   ]
  },
  {
   "cell_type": "code",
   "execution_count": 2,
   "metadata": {},
   "outputs": [
    {
     "name": "stdout",
     "output_type": "stream",
     "text": [
      "Loading data from original sources...\n",
      "2025-05-21 19:06:10,427 - econ_downturn.data.data_loader - WARNING - FRED data file not found at data/fred/all_indicators.csv\n",
      "2025-05-21 19:06:10,432 - econ_downturn.data.data_loader - WARNING - NBER data file not found at data/nber/recession_indicator.csv\n",
      "2025-05-21 19:06:10,435 - econ_downturn.data.data_loader - WARNING - UMich data file not found at data/umich/all_sentiment.csv\n",
      "2025-05-21 19:06:10,438 - econ_downturn.data.data_loader - WARNING - Dataset 'FRED' is empty and will be skipped\n",
      "2025-05-21 19:06:10,439 - econ_downturn.data.data_loader - WARNING - Dataset 'NBER' is empty and will be skipped\n",
      "2025-05-21 19:06:10,439 - econ_downturn.data.data_loader - WARNING - Dataset 'UMICH' is empty and will be skipped\n",
      "2025-05-21 19:06:10,439 - econ_downturn.data.data_loader - WARNING - No data available to merge\n",
      "Failed to load data.\n"
     ]
    }
   ],
   "source": [
    "# Load all data using the utility function\n",
    "merged_data = load_data(use_cached=True)"
   ]
  },
  {
   "cell_type": "markdown",
   "metadata": {},
   "source": [
    "## 2. Data Overview\n",
    "\n",
    "Let's examine the merged dataset to understand its structure and content."
   ]
  },
  {
   "cell_type": "code",
   "execution_count": 3,
   "metadata": {},
   "outputs": [
    {
     "name": "stdout",
     "output_type": "stream",
     "text": [
      "No data to display.\n"
     ]
    }
   ],
   "source": [
    "# Display information about the dataset\n",
    "display_data_info(merged_data)"
   ]
  },
  {
   "cell_type": "markdown",
   "metadata": {},
   "source": [
    "## 3. Visualize Economic Indicators Over Time\n",
    "\n",
    "Let's visualize the economic indicators over time, highlighting recession periods."
   ]
  },
  {
   "cell_type": "code",
   "execution_count": 4,
   "metadata": {},
   "outputs": [],
   "source": [
    "if merged_data is not None and 'recession' in merged_data.columns:\n",
    "    # Plot key economic indicators\n",
    "    indicators_to_plot = [\n",
    "        col for col in merged_data.columns if col != 'recession'\n",
    "    ]\n",
    "    \n",
    "    for indicator in indicators_to_plot[:5]:  # Plot first 5 indicators for brevity\n",
    "        if indicator in merged_data.columns:\n",
    "            fig = plot_indicator_with_recessions(\n",
    "                merged_data, \n",
    "                indicator,\n",
    "                title=f\"{indicator} Over Time\"\n",
    "            )\n",
    "            plt.show()\n",
    "            \n",
    "            # Save the figure\n",
    "            save_figure(fig, f\"{indicator.lower()}_over_time.png\")"
   ]
  },
  {
   "cell_type": "markdown",
   "metadata": {},
   "source": [
    "## 4. Correlation Analysis\n",
    "\n",
    "Let's analyze the correlations between economic indicators and recession periods."
   ]
  },
  {
   "cell_type": "code",
   "execution_count": 5,
   "metadata": {},
   "outputs": [],
   "source": [
    "if merged_data is not None:\n",
    "    # Plot correlation matrix\n",
    "    fig = plot_correlation_matrix(merged_data)\n",
    "    plt.show()\n",
    "    save_figure(fig, \"correlation_matrix.png\")\n",
    "    \n",
    "    # If recession indicator is available, show correlations with recession\n",
    "    if 'recession' in merged_data.columns:\n",
    "        fig = plot_recession_correlations(merged_data)\n",
    "        plt.show()\n",
    "        save_figure(fig, \"recession_correlations.png\")"
   ]
  },
  {
   "cell_type": "markdown",
   "metadata": {},
   "source": [
    "## 5. Next Steps\n",
    "\n",
    "Based on the exploratory analysis, the next steps would be:\n",
    "\n",
    "1. Handle missing values in the dataset\n",
    "2. Create lag variables to capture leading indicators\n",
    "3. Normalize the data for modeling\n",
    "4. Apply Multiple Discriminant Analysis (MDA) to identify the most significant predictors of recessions\n",
    "5. Evaluate the model's performance in classifying recessionary and non-recessionary periods"
   ]
  }
 ],
 "metadata": {
  "kernelspec": {
   "display_name": "econ-downturn",
   "language": "python",
   "name": "python3"
  },
  "language_info": {
   "codemirror_mode": {
    "name": "ipython",
    "version": 3
   },
   "file_extension": ".py",
   "mimetype": "text/x-python",
   "name": "python",
   "nbconvert_exporter": "python",
   "pygments_lexer": "ipython3",
   "version": "3.8.20"
  }
 },
 "nbformat": 4,
 "nbformat_minor": 4
}
