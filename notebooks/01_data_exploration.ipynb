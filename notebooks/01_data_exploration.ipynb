{
 "cells": [
  {
   "cell_type": "markdown",
   "metadata": {},
   "source": [
    "# Digging Into Economic Data: What Signals a Recession?\n",
    "\n",
    "Let's dive into the economic data we've gathered and see what stories it tells us about past recessions. We'll look at patterns, spot interesting relationships, and get a feel for how different economic indicators behave when the economy takes a downturn."
   ]
  },
  {
   "cell_type": "code",
   "execution_count": null,
   "metadata": {},
   "outputs": [],
   "source": [
    "# Import notebook utilities\n",
    "from notebook_utils import (\n",
    "    # Setup functions\n",
    "    setup_notebook, load_data, display_data_info, save_figure,\n",
    "    \n",
    "    # Import from econ_downturn package\n",
    "    plot_indicator_with_recessions, plot_correlation_matrix,\n",
    "    plot_recession_correlations\n",
    ")\n",
    "\n",
    "# Import other libraries\n",
    "import pandas as pd\n",
    "import numpy as np\n",
    "import matplotlib.pyplot as plt\n",
    "import seaborn as sns\n",
    "from IPython.display import display\n",
    "\n",
    "# Set up the notebook environment\n",
    "setup_notebook()"
   ]
  },
  {
   "cell_type": "markdown",
   "metadata": {},
   "source": [
    "## Getting Our Data Ready\n",
    "\n",
    "Time to load up all our economic data. We've got indicators from FRED and recession dates from NBER - let's see what we're working with."
   ]
  },
  {
   "cell_type": "code",
   "execution_count": null,
   "metadata": {},
   "outputs": [],
   "source": [
    "# Load all data using the utility function\n",
    "merged_data = load_data(use_cached=True)"
   ]
  },
  {
   "cell_type": "markdown",
   "metadata": {},
   "source": [
    "## What Does Our Dataset Look Like?\n",
    "\n",
    "Now that we've got everything loaded, let's take a closer look at what we're dealing with. How much data do we have? What's the time range? Any obvious issues we need to watch out for?"
   ]
  },
  {
   "cell_type": "code",
   "execution_count": null,
   "metadata": {},
   "outputs": [],
   "source": [
    "# Display information about the dataset\n",
    "display_data_info(merged_data)"
   ]
  },
  {
   "cell_type": "markdown",
   "metadata": {},
   "source": [
    "## Plotting the Economic Story\n",
    "\n",
    "Time for the fun part - let's create some charts to see how these economic indicators have moved over the decades. We'll highlight recession periods so we can spot patterns and see which indicators might give us early warning signs."
   ]
  },
  {
   "cell_type": "code",
   "execution_count": null,
   "metadata": {},
   "outputs": [],
   "source": [
    "if merged_data is not None and 'recession' in merged_data.columns:\n",
    "    # Plot key economic indicators\n",
    "    indicators_to_plot = [\n",
    "        col for col in merged_data.columns if col != 'recession'\n",
    "    ]\n",
    "    \n",
    "    for indicator in indicators_to_plot[:5]:  # Plot first 5 indicators for brevity\n",
    "        if indicator in merged_data.columns:\n",
    "            fig = plot_indicator_with_recessions(\n",
    "                merged_data, \n",
    "                indicator,\n",
    "                title=f\"{indicator} Over Time\"\n",
    "            )\n",
    "            plt.show()\n",
    "            \n",
    "            # Save the figure\n",
    "            save_figure(fig, f\"{indicator.lower()}_over_time.png\")"
   ]
  },
  {
   "cell_type": "markdown",
   "metadata": {},
   "source": [
    "## 4. Correlation Analysis\n",
    "\n",
    "Let's analyze the correlations between economic indicators and recession periods."
   ]
  },
  {
   "cell_type": "code",
   "execution_count": null,
   "metadata": {},
   "outputs": [],
   "source": [
    "if merged_data is not None:\n",
    "    # Plot correlation matrix\n",
    "    fig = plot_correlation_matrix(merged_data)\n",
    "    plt.show()\n",
    "    save_figure(fig, \"correlation_matrix.png\")\n",
    "    \n",
    "    # If recession indicator is available, show correlations with recession\n",
    "    if 'recession' in merged_data.columns:\n",
    "        fig = plot_recession_correlations(merged_data)\n",
    "        plt.show()\n",
    "        save_figure(fig, \"recession_correlations.png\")"
   ]
  }
 ],
 "metadata": {
  "kernelspec": {
   "display_name": "econ-downturn",
   "language": "python",
   "name": "python3"
  },
  "language_info": {
   "codemirror_mode": {
    "name": "ipython",
    "version": 3
   },
   "file_extension": ".py",
   "mimetype": "text/x-python",
   "name": "python",
   "nbconvert_exporter": "python",
   "pygments_lexer": "ipython3",
   "version": "3.8.20"
  }
 },
 "nbformat": 4,
 "nbformat_minor": 4
}
