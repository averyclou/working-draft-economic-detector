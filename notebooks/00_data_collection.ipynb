{
 "cells": [
  {
   "cell_type": "markdown",
   "metadata": {},
   "source": [
    "# Data Collection for Economic Downturn Detection\n",
    "\n",
    "This notebook handles the collection of all economic data sources needed for the recession prediction model. It pulls data from multiple sources and combines them into a unified dataset for analysis.\n",
    "\n",
    "## Data Sources\n",
    "\n",
    "1. **Federal Reserve Economic Data (FRED)**: Core economic indicators like GDP, unemployment, inflation, consumer sentiment\n",
    "2. **National Bureau of Economic Research (NBER)**: Official recession dates and periods\n",
    "3. **University of Michigan**: Additional consumer sentiment surveys and expectations\n",
    "\n",
    "## Data Coverage\n",
    "\n",
    "**Data Cutoff Date**: May 2024\n",
    "\n",
    "We collect data from January 1970 through May 2024, covering 8 recession periods and multiple economic cycles. This gives us enough historical data for model training while including recent economic conditions.\n",
    "\n",
    "## Requirements\n",
    "\n",
    "- FRED API key (set in .env file as FRED_API_KEY)\n",
    "- Internet connection for data fetching\n",
    "- Sufficient disk space for data storage"
   ]
  },
  {
   "cell_type": "code",
   "execution_count": 1,
   "metadata": {},
   "outputs": [
    {
     "name": "stdout",
     "output_type": "stream",
     "text": [
      "Initializing notebook environment...\n",
      "✓ Added c:\\Users\\Admin\\economic-downturn-detector\\Copy of Economic Downturn\\economic-downturn-detector\\matt-version-downturn-detector\\src to Python path\n",
      "✓ econ_downturn package imported successfully\n",
      "✓ Notebook environment configured\n",
      "✓ Environment variables loaded\n",
      "\n",
      "Available data paths:\n",
      "  fred_dir: c:\\Users\\Admin\\economic-downturn-detector\\Copy of Economic Downturn\\economic-downturn-detector\\matt-version-downturn-detector\\data\\fred\n",
      "  nber_dir: c:\\Users\\Admin\\economic-downturn-detector\\Copy of Economic Downturn\\economic-downturn-detector\\matt-version-downturn-detector\\data\\nber\n",
      "  processed_dir: c:\\Users\\Admin\\economic-downturn-detector\\Copy of Economic Downturn\\economic-downturn-detector\\matt-version-downturn-detector\\data\\processed\n",
      "  fred_all_indicators: c:\\Users\\Admin\\economic-downturn-detector\\Copy of Economic Downturn\\economic-downturn-detector\\matt-version-downturn-detector\\data\\fred\\all_indicators.csv\n",
      "  nber_recession_indicator: c:\\Users\\Admin\\economic-downturn-detector\\Copy of Economic Downturn\\economic-downturn-detector\\matt-version-downturn-detector\\data\\nber\\recession_indicator.csv\n",
      "  merged_data: c:\\Users\\Admin\\economic-downturn-detector\\Copy of Economic Downturn\\economic-downturn-detector\\matt-version-downturn-detector\\data\\processed\\merged_data.csv\n",
      "  data_with_features: c:\\Users\\Admin\\economic-downturn-detector\\Copy of Economic Downturn\\economic-downturn-detector\\matt-version-downturn-detector\\data\\processed\\data_with_features.csv\n",
      "  data_normalized: c:\\Users\\Admin\\economic-downturn-detector\\Copy of Economic Downturn\\economic-downturn-detector\\matt-version-downturn-detector\\data\\processed\\data_normalized.csv\n",
      "  data_pca: c:\\Users\\Admin\\economic-downturn-detector\\Copy of Economic Downturn\\economic-downturn-detector\\matt-version-downturn-detector\\data\\processed\\data_pca.csv\n",
      "\n",
      "Available output paths:\n",
      "  images_dir: c:\\Users\\Admin\\economic-downturn-detector\\Copy of Economic Downturn\\economic-downturn-detector\\matt-version-downturn-detector\\docs/images\n",
      "  feature_importance: c:\\Users\\Admin\\economic-downturn-detector\\Copy of Economic Downturn\\economic-downturn-detector\\matt-version-downturn-detector\\docs/images\\feature_importance.png\n",
      "  mda_projection: c:\\Users\\Admin\\economic-downturn-detector\\Copy of Economic Downturn\\economic-downturn-detector\\matt-version-downturn-detector\\docs/images\\mda_projection.png\n",
      "  discriminant_time: c:\\Users\\Admin\\economic-downturn-detector\\Copy of Economic Downturn\\economic-downturn-detector\\matt-version-downturn-detector\\docs/images\\discriminant_time.png\n",
      "  correlation_matrix: c:\\Users\\Admin\\economic-downturn-detector\\Copy of Economic Downturn\\economic-downturn-detector\\matt-version-downturn-detector\\docs/images\\correlation_matrix.png\n",
      "  recession_correlations: c:\\Users\\Admin\\economic-downturn-detector\\Copy of Economic Downturn\\economic-downturn-detector\\matt-version-downturn-detector\\docs/images\\recession_correlations.png\n",
      "  pca_explained_variance: c:\\Users\\Admin\\economic-downturn-detector\\Copy of Economic Downturn\\economic-downturn-detector\\matt-version-downturn-detector\\docs/images\\pca_explained_variance.png\n",
      "✓ Notebook initialization complete!\n",
      "\n",
      "You can now import econ_downturn functions directly:\n",
      "  from econ_downturn import get_all_data, plot_indicator_with_recessions\n",
      "Data collection notebook initialized successfully!\n",
      "Current working directory: c:\\Users\\Admin\\economic-downturn-detector\\Copy of Economic Downturn\\economic-downturn-detector\\matt-version-downturn-detector\\notebooks\n"
     ]
    }
   ],
   "source": [
    "# Initialize notebook with all necessary imports and setup\n",
    "from notebook_utils import init_notebook\n",
    "init_notebook()\n",
    "\n",
    "# Import required libraries\n",
    "import os\n",
    "import sys\n",
    "import pandas as pd\n",
    "import numpy as np\n",
    "from datetime import datetime, timedelta\n",
    "import logging\n",
    "from dotenv import load_dotenv\n",
    "from fredapi import Fred\n",
    "import warnings\n",
    "warnings.filterwarnings('ignore')\n",
    "\n",
    "# Import the econ_downturn functions we need\n",
    "from econ_downturn import (\n",
    "    get_fred_data, get_nber_data, get_all_data, get_umich_data,\n",
    "    setup_logger, load_environment\n",
    ")\n",
    "\n",
    "# Set up logging\n",
    "logger = setup_logger('data_collection')\n",
    "\n",
    "print(\"Data collection notebook initialized successfully!\")\n",
    "print(f\"Current working directory: {os.getcwd()}\")"
   ]
  },
  {
   "cell_type": "markdown",
   "metadata": {},
   "source": [
    "## 1. FRED API Setup and Validation\n",
    "\n",
    "Let's check that the FRED API key is set up correctly and test the connection."
   ]
  },
  {
   "cell_type": "code",
   "execution_count": 2,
   "metadata": {},
   "outputs": [
    {
     "name": "stdout",
     "output_type": "stream",
     "text": [
      "FRED API key found\n",
      "FRED API connection successful\n",
      "Latest unemployment rate: 3.4% (1948-01)\n"
     ]
    }
   ],
   "source": [
    "# Check FRED API key\n",
    "fred_api_key = os.getenv('FRED_API_KEY')\n",
    "\n",
    "if not fred_api_key:\n",
    "    print(\"FRED API key not found!\")\n",
    "    print(\"Please set the FRED_API_KEY environment variable in your .env file.\")\n",
    "    print(\"You can get a free API key from: https://fred.stlouisfed.org/\")\n",
    "    sys.exit(1)\n",
    "else:\n",
    "    print(\"FRED API key found\")\n",
    "    \n",
    "# Test FRED API connection\n",
    "try:\n",
    "    fred = Fred(api_key=fred_api_key)\n",
    "    # Test with a simple series\n",
    "    test_data = fred.get_series('UNRATE', limit=1)\n",
    "    print(\"FRED API connection successful\")\n",
    "    print(f\"Latest unemployment rate: {test_data.iloc[-1]:.1f}% ({test_data.index[-1].strftime('%Y-%m')})\")\n",
    "except Exception as e:\n",
    "    print(f\"FRED API connection failed: {e}\")\n",
    "    sys.exit(1)"
   ]
  },
  {
   "cell_type": "markdown",
   "metadata": {},
   "source": [
    "## 2. Define Data Collection Parameters\n",
    "\n",
    "Set the date range and output directories for data collection."
   ]
  },
  {
   "cell_type": "code",
   "execution_count": 3,
   "metadata": {},
   "outputs": [
    {
     "name": "stdout",
     "output_type": "stream",
     "text": [
      "Data collection period: 1970-01-01 to 2024-05-31\n",
      "Output directories created in: ../data\n"
     ]
    }
   ],
   "source": [
    "# Define data collection parameters\n",
    "START_DATE = '1970-01-01'\n",
    "END_DATE = '2024-05-31'  # Data cutoff date\n",
    "\n",
    "# Create output directories\n",
    "DATA_DIR = '../data'\n",
    "FRED_DIR = os.path.join(DATA_DIR, 'fred')\n",
    "NBER_DIR = os.path.join(DATA_DIR, 'nber')\n",
    "UMICH_DIR = os.path.join(DATA_DIR, 'umich')\n",
    "PROCESSED_DIR = os.path.join(DATA_DIR, 'processed')\n",
    "\n",
    "# Create directories if they don't exist\n",
    "for directory in [FRED_DIR, NBER_DIR, UMICH_DIR, PROCESSED_DIR]:\n",
    "    os.makedirs(directory, exist_ok=True)\n",
    "    \n",
    "print(f\"Data collection period: {START_DATE} to {END_DATE}\")\n",
    "print(f\"Output directories created in: {DATA_DIR}\")"
   ]
  },
  {
   "cell_type": "markdown",
   "metadata": {},
   "source": [
    "## 3. Fetch FRED Economic Indicators\n",
    "\n",
    "Get the main economic indicators from the Federal Reserve Economic Data (FRED) database."
   ]
  },
  {
   "cell_type": "code",
   "execution_count": 4,
   "metadata": {},
   "outputs": [
    {
     "name": "stdout",
     "output_type": "stream",
     "text": [
      "Fetching FRED economic indicators...\n",
      "This may take a few minutes depending on your internet connection.\n",
      "2025-06-11 18:22:55,258 - econ_downturn.data.fred - INFO - Fetching GDP (Series ID: GDPC1)\n",
      "2025-06-11 18:22:55,432 - econ_downturn.data.fred - INFO - Successfully fetched GDP with 218 observations\n",
      "2025-06-11 18:22:55,433 - econ_downturn.data.fred - INFO - Fetching UNEMPLOYMENT (Series ID: UNRATE)\n",
      "2025-06-11 18:22:55,726 - econ_downturn.data.fred - INFO - Successfully fetched UNEMPLOYMENT with 653 observations\n",
      "2025-06-11 18:22:55,727 - econ_downturn.data.fred - INFO - Fetching CPI (Series ID: CPIAUCSL)\n",
      "2025-06-11 18:22:55,945 - econ_downturn.data.fred - INFO - Successfully fetched CPI with 653 observations\n",
      "2025-06-11 18:22:55,946 - econ_downturn.data.fred - INFO - Fetching FED_FUNDS (Series ID: FEDFUNDS)\n",
      "2025-06-11 18:22:56,177 - econ_downturn.data.fred - INFO - Successfully fetched FED_FUNDS with 653 observations\n",
      "2025-06-11 18:22:56,178 - econ_downturn.data.fred - INFO - Fetching YIELD_CURVE (Series ID: T10Y2Y)\n",
      "2025-06-11 18:22:57,822 - econ_downturn.data.fred - INFO - Successfully fetched YIELD_CURVE with 12524 observations\n",
      "2025-06-11 18:22:57,823 - econ_downturn.data.fred - INFO - Fetching INITIAL_CLAIMS (Series ID: ICSA)\n",
      "2025-06-11 18:22:58,258 - econ_downturn.data.fred - INFO - Successfully fetched INITIAL_CLAIMS with 2839 observations\n",
      "2025-06-11 18:22:58,259 - econ_downturn.data.fred - INFO - Fetching INDUSTRIAL_PROD (Series ID: INDPRO)\n",
      "2025-06-11 18:22:58,490 - econ_downturn.data.fred - INFO - Successfully fetched INDUSTRIAL_PROD with 653 observations\n",
      "2025-06-11 18:22:58,491 - econ_downturn.data.fred - INFO - Fetching RETAIL_SALES (Series ID: RSAFS)\n",
      "2025-06-11 18:22:58,746 - econ_downturn.data.fred - INFO - Successfully fetched RETAIL_SALES with 389 observations\n",
      "2025-06-11 18:22:58,747 - econ_downturn.data.fred - INFO - Fetching HOUSING_STARTS (Series ID: HOUST)\n",
      "2025-06-11 18:22:58,948 - econ_downturn.data.fred - INFO - Successfully fetched HOUSING_STARTS with 653 observations\n",
      "2025-06-11 18:22:58,949 - econ_downturn.data.fred - INFO - Fetching CONSUMER_SENTIMENT (Series ID: UMCSENT)\n",
      "2025-06-11 18:22:59,171 - econ_downturn.data.fred - INFO - Successfully fetched CONSUMER_SENTIMENT with 653 observations\n",
      "2025-06-11 18:22:59,179 - econ_downturn.data.fred - INFO - Saved GDP data to ../data\\fred\\gdp.csv\n",
      "2025-06-11 18:22:59,181 - econ_downturn.data.fred - INFO - Saved UNEMPLOYMENT data to ../data\\fred\\unemployment.csv\n",
      "2025-06-11 18:22:59,185 - econ_downturn.data.fred - INFO - Saved CPI data to ../data\\fred\\cpi.csv\n",
      "2025-06-11 18:22:59,187 - econ_downturn.data.fred - INFO - Saved FED_FUNDS data to ../data\\fred\\fed_funds.csv\n",
      "2025-06-11 18:22:59,219 - econ_downturn.data.fred - INFO - Saved YIELD_CURVE data to ../data\\fred\\yield_curve.csv\n",
      "2025-06-11 18:22:59,233 - econ_downturn.data.fred - INFO - Saved INITIAL_CLAIMS data to ../data\\fred\\initial_claims.csv\n",
      "2025-06-11 18:22:59,240 - econ_downturn.data.fred - INFO - Saved INDUSTRIAL_PROD data to ../data\\fred\\industrial_prod.csv\n",
      "2025-06-11 18:22:59,246 - econ_downturn.data.fred - INFO - Saved RETAIL_SALES data to ../data\\fred\\retail_sales.csv\n",
      "2025-06-11 18:22:59,250 - econ_downturn.data.fred - INFO - Saved HOUSING_STARTS data to ../data\\fred\\housing_starts.csv\n",
      "2025-06-11 18:22:59,254 - econ_downturn.data.fred - INFO - Saved CONSUMER_SENTIMENT data to ../data\\fred\\consumer_sentiment.csv\n",
      "2025-06-11 18:22:59,418 - econ_downturn.data.fred - INFO - Saved merged data to ../data\\fred\\all_indicators.csv\n",
      "FRED data collected successfully!\n",
      "   Shape: (15510, 10)\n",
      "   Date range: 1970-01-01 00:00:00 to 2024-05-31 00:00:00\n",
      "   Indicators: ['GDP', 'UNEMPLOYMENT', 'CPI', 'FED_FUNDS', 'YIELD_CURVE', 'INITIAL_CLAIMS', 'INDUSTRIAL_PROD', 'RETAIL_SALES', 'HOUSING_STARTS', 'CONSUMER_SENTIMENT']\n"
     ]
    }
   ],
   "source": [
    "print(\"Fetching FRED economic indicators...\")\n",
    "print(\"This may take a few minutes depending on your internet connection.\")\n",
    "\n",
    "# Fetch FRED data using the existing function\n",
    "fred_data = get_fred_data(\n",
    "    api_key=fred_api_key,\n",
    "    start_date=START_DATE,\n",
    "    end_date=END_DATE,\n",
    "    output_dir=FRED_DIR\n",
    ")\n",
    "\n",
    "if fred_data is not None:\n",
    "    print(f\"FRED data collected successfully!\")\n",
    "    print(f\"   Shape: {fred_data.shape}\")\n",
    "    print(f\"   Date range: {fred_data.index.min()} to {fred_data.index.max()}\")\n",
    "    print(f\"   Indicators: {list(fred_data.columns)}\")\n",
    "else:\n",
    "    print(\"Failed to fetch FRED data\")\n",
    "    sys.exit(1)"
   ]
  },
  {
   "cell_type": "markdown",
   "metadata": {},
   "source": [
    "## 4. Fetch NBER Recession Data\n",
    "\n",
    "Get official recession dates from the National Bureau of Economic Research."
   ]
  },
  {
   "cell_type": "code",
   "execution_count": 5,
   "metadata": {},
   "outputs": [
    {
     "name": "stdout",
     "output_type": "stream",
     "text": [
      "Fetching NBER recession data...\n",
      "2025-06-11 18:22:59,437 - econ_downturn.data.nber - INFO - Creating NBER recession data\n",
      "2025-06-11 18:22:59,445 - econ_downturn.data.nber - INFO - Successfully created data for 8 recessions\n",
      "2025-06-11 18:22:59,464 - econ_downturn.data.nber - INFO - Saved recession dates to ../data\\nber\\recession_dates.csv\n",
      "2025-06-11 18:22:59,471 - econ_downturn.data.nber - INFO - Saved recession indicator to ../data\\nber\\recession_indicator.csv\n",
      "2025-06-11 18:22:59,472 - econ_downturn.data.nber - INFO - NBER data processing completed successfully\n",
      "NBER recession data collected successfully!\n",
      "   Shape: (653, 1)\n",
      "   Date range: 1970-01-31 00:00:00 to 2024-05-31 00:00:00\n",
      "   Recession periods: 84 months\n",
      "   Non-recession periods: 569 months\n"
     ]
    }
   ],
   "source": [
    "print(\"Fetching NBER recession data...\")\n",
    "\n",
    "# Fetch NBER data using the existing function\n",
    "nber_data = get_nber_data(\n",
    "    start_date=START_DATE,\n",
    "    end_date=END_DATE,\n",
    "    output_dir=NBER_DIR\n",
    ")\n",
    "\n",
    "if nber_data is not None:\n",
    "    print(f\"NBER recession data collected successfully!\")\n",
    "    print(f\"   Shape: {nber_data.shape}\")\n",
    "    print(f\"   Date range: {nber_data.index.min()} to {nber_data.index.max()}\")\n",
    "    print(f\"   Recession periods: {nber_data['recession'].sum()} months\")\n",
    "    print(f\"   Non-recession periods: {(nber_data['recession'] == 0).sum()} months\")\n",
    "else:\n",
    "    print(\"Failed to fetch NBER data\")\n",
    "    sys.exit(1)"
   ]
  },
  {
   "cell_type": "markdown",
   "metadata": {},
   "source": [
    "## 5. Fetch University of Michigan Consumer Sentiment Data\n",
    "\n",
    "Get additional consumer sentiment data from the University of Michigan via FRED."
   ]
  },
  {
   "cell_type": "code",
   "execution_count": 6,
   "metadata": {},
   "outputs": [
    {
     "name": "stdout",
     "output_type": "stream",
     "text": [
      "Fetching University of Michigan Consumer Sentiment data...\n",
      "2025-06-11 18:22:59,488 - econ_downturn.data.umich - INFO - Fetching SENTIMENT (Series ID: UMCSENT)\n",
      "2025-06-11 18:22:59,863 - econ_downturn.data.umich - INFO - Successfully fetched SENTIMENT with 653 observations\n",
      "2025-06-11 18:22:59,864 - econ_downturn.data.umich - INFO - Fetching INFLATION_EXPECTATION (Series ID: MICH)\n",
      "2025-06-11 18:23:00,251 - econ_downturn.data.umich - INFO - Successfully fetched INFLATION_EXPECTATION with 557 observations\n",
      "2025-06-11 18:23:00,256 - econ_downturn.data.umich - INFO - Saved SENTIMENT to ../data\\umich\\sentiment.csv\n",
      "2025-06-11 18:23:00,261 - econ_downturn.data.umich - INFO - Saved INFLATION_EXPECTATION to ../data\\umich\\inflation_expectation.csv\n",
      "2025-06-11 18:23:00,271 - econ_downturn.data.umich - INFO - Saved merged UMich data to ../data\\umich\\all_sentiment.csv\n",
      "2025-06-11 18:23:00,272 - econ_downturn.data.umich - INFO - UMich sentiment data processing completed successfully\n",
      "UMich sentiment data collected successfully!\n",
      "   Shape: (653, 2)\n",
      "   Date range: 1970-01-01 00:00:00 to 2024-05-01 00:00:00\n",
      "   Indicators: ['SENTIMENT', 'INFLATION_EXPECTATION']\n"
     ]
    }
   ],
   "source": [
    "print(\"Fetching University of Michigan Consumer Sentiment data...\")\n",
    "\n",
    "# Use the existing get_umich_data function\n",
    "from econ_downturn import get_umich_data\n",
    "\n",
    "umich_data = get_umich_data(\n",
    "    api_key=fred_api_key,\n",
    "    start_date=START_DATE,\n",
    "    end_date=END_DATE,\n",
    "    output_dir=UMICH_DIR\n",
    ")\n",
    "\n",
    "if umich_data is not None:\n",
    "    print(f\"UMich sentiment data collected successfully!\")\n",
    "    print(f\"   Shape: {umich_data.shape}\")\n",
    "    print(f\"   Date range: {umich_data.index.min()} to {umich_data.index.max()}\")\n",
    "    print(f\"   Indicators: {list(umich_data.columns)}\")\n",
    "else:\n",
    "    print(\"Failed to fetch UMich data\")\n",
    "    sys.exit(1)"
   ]
  },
  {
   "cell_type": "markdown",
   "metadata": {},
   "source": [
    "## 6. Integrate All Data Sources\n",
    "\n",
    "Combine all the data sources we've collected into one dataset for analysis."
   ]
  },
  {
   "cell_type": "code",
   "execution_count": 7,
   "metadata": {},
   "outputs": [
    {
     "name": "stdout",
     "output_type": "stream",
     "text": [
      "Integrating all data sources...\n",
      "2025-06-11 18:23:00,335 - econ_downturn.data.data_loader - INFO - Loaded FRED data with shape: (15510, 10)\n",
      "2025-06-11 18:23:00,352 - econ_downturn.data.data_loader - INFO - Loaded NBER recession data with shape: (653, 1)\n",
      "2025-06-11 18:23:00,366 - econ_downturn.data.data_loader - INFO - Loaded UMich data with shape: (653, 2)\n",
      "2025-06-11 18:23:00,367 - econ_downturn.data.data_loader - INFO - Initialized merged dataset with 'FRED' data\n",
      "2025-06-11 18:23:00,372 - econ_downturn.data.data_loader - INFO - Added 'NBER' data to merged dataset\n",
      "2025-06-11 18:23:00,377 - econ_downturn.data.data_loader - INFO - Added 'UMICH' data to merged dataset\n",
      "2025-06-11 18:23:00,378 - econ_downturn.data.data_loader - INFO - Merged dataset shape: (15657, 13)\n",
      "2025-06-11 18:23:00,501 - econ_downturn.data.data_loader - INFO - Saved merged dataset to c:\\Users\\Admin\\economic-downturn-detector\\Copy of Economic Downturn\\economic-downturn-detector\\matt-version-downturn-detector\\data\\processed\\merged_data.csv\n",
      "Integrated data loaded successfully: (15657, 13)\n",
      "\n",
      "Final integrated dataset:\n",
      "   Shape: (15657, 13)\n",
      "   Date range: 1970-01-01 00:00:00 to 2024-05-31 00:00:00\n",
      "   Saved to: ../data\\processed\\integrated_data.csv\n",
      "   Columns: ['GDP', 'UNEMPLOYMENT', 'CPI', 'FED_FUNDS', 'YIELD_CURVE', 'INITIAL_CLAIMS', 'INDUSTRIAL_PROD', 'RETAIL_SALES', 'HOUSING_STARTS', 'CONSUMER_SENTIMENT', 'recession', 'SENTIMENT', 'INFLATION_EXPECTATION']\n"
     ]
    }
   ],
   "source": [
    "print(\"Integrating all data sources...\")\n",
    "\n",
    "# Use the existing get_all_data function to integrate FRED, NBER, and UMich data\n",
    "try:\n",
    "    integrated_data = get_all_data()\n",
    "    print(f\"Integrated data loaded successfully: {integrated_data.shape}\")\n",
    "except Exception as e:\n",
    "    print(f\"get_all_data() failed: {e}\")\n",
    "    print(\"Manually combining data sources...\")\n",
    "    \n",
    "    # Manually combine the data if get_all_data fails\n",
    "    data_sources = []\n",
    "    \n",
    "    if fred_data is not None:\n",
    "        data_sources.append(fred_data)\n",
    "        print(f\"   Added FRED data: {fred_data.shape}\")\n",
    "    if nber_data is not None:\n",
    "        data_sources.append(nber_data)\n",
    "        print(f\"   Added NBER data: {nber_data.shape}\")\n",
    "    if umich_data is not None:\n",
    "        data_sources.append(umich_data)\n",
    "        print(f\"   Added UMich data: {umich_data.shape}\")\n",
    "    \n",
    "    if data_sources:\n",
    "        integrated_data = pd.concat(data_sources, axis=1)\n",
    "        print(f\"   Manually integrated data: {integrated_data.shape}\")\n",
    "    else:\n",
    "        print(\"No data sources available for integration\")\n",
    "        sys.exit(1)\n",
    "\n",
    "# Handle missing values with forward fill then backward fill\n",
    "integrated_data = integrated_data.fillna(method='ffill').fillna(method='bfill')\n",
    "\n",
    "# Save the integrated dataset\n",
    "integrated_path = os.path.join(PROCESSED_DIR, 'integrated_data.csv')\n",
    "integrated_data.to_csv(integrated_path)\n",
    "\n",
    "print(f\"\\nFinal integrated dataset:\")\n",
    "print(f\"   Shape: {integrated_data.shape}\")\n",
    "print(f\"   Date range: {integrated_data.index.min()} to {integrated_data.index.max()}\")\n",
    "print(f\"   Saved to: {integrated_path}\")\n",
    "print(f\"   Columns: {list(integrated_data.columns)}\")"
   ]
  },
  {
   "cell_type": "markdown",
   "metadata": {},
   "source": [
    "## 7. Data Collection Summary\n",
    "\n",
    "Summary of all the data we've collected."
   ]
  },
  {
   "cell_type": "code",
   "execution_count": 8,
   "metadata": {},
   "outputs": [
    {
     "name": "stdout",
     "output_type": "stream",
     "text": [
      "\n",
      "============================================================\n",
      "DATA COLLECTION SUMMARY\n",
      "============================================================\n",
      "\n",
      "Collection Period: 1970-01-01 to 2024-05-31\n",
      "Total Data Points: 15657 time periods\n",
      "Total Indicators: 13 variables\n",
      "\n",
      "Data Sources Collected:\n",
      "   FRED Economic Indicators: 10 indicators\n",
      "      - GDP, Unemployment, CPI, Fed Funds Rate, etc.\n",
      "   NBER Recession Data: 84/653 recession months (12.9%)\n",
      "   UMich Consumer Sentiment: 2 indicators\n",
      "      - Consumer Sentiment, Current Conditions, Expectations, Inflation Expectations\n",
      "\n",
      "Data Storage:\n",
      "   Raw data saved in: ../data/[source]/\n",
      "   Integrated data saved in: ../data\\processed\\integrated_data.csv\n",
      "\n",
      "Data collection completed successfully!\n",
      "   The integrated dataset is ready for feature engineering and analysis.\n",
      "   Next step: Run notebook 01_data_exploration.ipynb\n"
     ]
    }
   ],
   "source": [
    "print(\"\\n\" + \"=\"*60)\n",
    "print(\"DATA COLLECTION SUMMARY\")\n",
    "print(\"=\"*60)\n",
    "\n",
    "print(f\"\\nCollection Period: {START_DATE} to {END_DATE}\")\n",
    "print(f\"Total Data Points: {len(integrated_data)} time periods\")\n",
    "print(f\"Total Indicators: {len(integrated_data.columns)} variables\")\n",
    "\n",
    "print(\"\\nData Sources Collected:\")\n",
    "\n",
    "# FRED data summary\n",
    "if fred_data is not None:\n",
    "    print(f\"   FRED Economic Indicators: {fred_data.shape[1]} indicators\")\n",
    "    print(f\"      - GDP, Unemployment, CPI, Fed Funds Rate, etc.\")\n",
    "else:\n",
    "    print(f\"   FRED Economic Indicators: Failed\")\n",
    "\n",
    "# NBER data summary\n",
    "if nber_data is not None:\n",
    "    recession_months = nber_data['recession'].sum()\n",
    "    total_months = len(nber_data)\n",
    "    recession_pct = (recession_months / total_months) * 100\n",
    "    print(f\"   NBER Recession Data: {recession_months}/{total_months} recession months ({recession_pct:.1f}%)\")\n",
    "else:\n",
    "    print(f\"   NBER Recession Data: Failed\")\n",
    "\n",
    "# UMich data summary\n",
    "if umich_data is not None:\n",
    "    print(f\"   UMich Consumer Sentiment: {umich_data.shape[1]} indicators\")\n",
    "    print(f\"      - Consumer Sentiment, Current Conditions, Expectations, Inflation Expectations\")\n",
    "else:\n",
    "    print(f\"   UMich Consumer Sentiment: Failed\")\n",
    "\n",
    "print(f\"\\nData Storage:\")\n",
    "print(f\"   Raw data saved in: {DATA_DIR}/[source]/\")\n",
    "print(f\"   Integrated data saved in: {integrated_path}\")\n",
    "\n",
    "print(f\"\\nData collection completed successfully!\")\n",
    "print(f\"   The integrated dataset is ready for feature engineering and analysis.\")\n",
    "print(f\"   Next step: Run notebook 01_data_exploration.ipynb\")"
   ]
  }
 ],
 "metadata": {
  "kernelspec": {
   "display_name": "Python 3",
   "language": "python",
   "name": "python3"
  },
  "language_info": {
   "codemirror_mode": {
    "name": "ipython",
    "version": 3
   },
   "file_extension": ".py",
   "mimetype": "text/x-python",
   "name": "python",
   "nbconvert_exporter": "python",
   "pygments_lexer": "ipython3",
   "version": "3.12.1"
  }
 },
 "nbformat": 4,
 "nbformat_minor": 4
}
